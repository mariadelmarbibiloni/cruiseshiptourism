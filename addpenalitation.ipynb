{
 "cells": [
  {
   "cell_type": "markdown",
   "metadata": {},
   "source": [
    "# Add Penalitation funcion"
   ]
  },
  {
   "cell_type": "code",
   "execution_count": 1,
   "metadata": {},
   "outputs": [
    {
     "name": "stdout",
     "output_type": "stream",
     "text": [
      "/home/mariadelmar/documents/madm/tfm/code/cruiseshiptourism\n"
     ]
    }
   ],
   "source": [
    "import os\n",
    "print(os.getcwd())"
   ]
  },
  {
   "cell_type": "code",
   "execution_count": 2,
   "metadata": {},
   "outputs": [],
   "source": [
    "import pandas as pd\n",
    "import tasks as tsk"
   ]
  },
  {
   "cell_type": "markdown",
   "metadata": {},
   "source": [
    "Read cleaned Palma data."
   ]
  },
  {
   "cell_type": "code",
   "execution_count": 3,
   "metadata": {},
   "outputs": [],
   "source": [
    "topsights = pd.read_csv(\n",
    "            \"palmadata/palmapointsofinterest_cleaned.csv\", \n",
    "            header = 0,\n",
    "            dtype = {\n",
    "                \"place\": 'str',\n",
    "                \"description\": 'str',\n",
    "                \"latitude\": 'float',\n",
    "                \"longitude\": 'float',\n",
    "                \"stars\": 'float',\n",
    "                \"reviews\": 'float'\n",
    "            }\n",
    "        )"
   ]
  },
  {
   "cell_type": "markdown",
   "metadata": {},
   "source": [
    "Set default update utility function as standard_penalitation."
   ]
  },
  {
   "cell_type": "code",
   "execution_count": 4,
   "metadata": {},
   "outputs": [],
   "source": [
    "topsights[\"update_utility\"] = tsk.standard_penalitation"
   ]
  },
  {
   "cell_type": "code",
   "execution_count": 5,
   "metadata": {},
   "outputs": [],
   "source": [
    "low   = [\n",
    "         \"Plaça de Cort\",\n",
    "         \"Plaça de toros de Palma\",\n",
    "         \"Plaza Del Mercat\",\n",
    "         \"Plaça del Rei Joan Carles I\"\n",
    "        ]\n",
    "high = [\n",
    "         \"Catedral-Basílica de Santa María de Mallorca\",\n",
    "         \"Castell de Bellver\",\n",
    "         \"Royal Palace of La Almudaina\",\n",
    "         \"Museu Fundación Juan March, Palma\",\n",
    "         \"Museo de Mallorca\",\n",
    "         \"Museu Diocesà de Mallorca\"\n",
    "        ]"
   ]
  },
  {
   "cell_type": "code",
   "execution_count": 6,
   "metadata": {},
   "outputs": [],
   "source": [
    "def set_penalitation(row, lows, highs):\n",
    "    if row.place == \"cruise ship\":\n",
    "        return tsk.cruise_utility\n",
    "    elif row.place in lows:\n",
    "        return tsk.low_penalitation\n",
    "    elif row.place in highs:\n",
    "        return tsk.high_penalitation\n",
    "    else:\n",
    "        return row.update_utility\n",
    "\n",
    "\n",
    "topsights[\"update_utility\"] = topsights.apply(lambda row: set_penalitation(row, low, high), axis=1)"
   ]
  },
  {
   "cell_type": "code",
   "execution_count": 10,
   "metadata": {},
   "outputs": [],
   "source": [
    "topsights.to_csv('palmadata/palmapointsofinterest_cln_pnl.csv', index=False)"
   ]
  }
 ],
 "metadata": {
  "kernelspec": {
   "display_name": "Python 3",
   "language": "python",
   "name": "python3"
  },
  "language_info": {
   "codemirror_mode": {
    "name": "ipython",
    "version": 3
   },
   "file_extension": ".py",
   "mimetype": "text/x-python",
   "name": "python",
   "nbconvert_exporter": "python",
   "pygments_lexer": "ipython3",
   "version": "3.8.3"
  }
 },
 "nbformat": 4,
 "nbformat_minor": 4
}
