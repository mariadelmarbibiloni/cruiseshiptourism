{
 "cells": [
  {
   "cell_type": "code",
   "execution_count": 1,
   "id": "63425c05",
   "metadata": {},
   "outputs": [],
   "source": [
    "import numpy as np\n",
    "import pandas as pd"
   ]
  },
  {
   "cell_type": "code",
   "execution_count": 2,
   "id": "19b305e1",
   "metadata": {},
   "outputs": [],
   "source": [
    "import tasks as tsk"
   ]
  },
  {
   "cell_type": "code",
   "execution_count": 3,
   "id": "64336b30",
   "metadata": {},
   "outputs": [],
   "source": [
    "def set_penalty(row, lows, highs):\n",
    "    if row.place == \"cruise ship\":\n",
    "        return tsk.cruise_utility\n",
    "    elif row.place in lows:\n",
    "        return tsk.low_penalty\n",
    "    elif row.place in highs:\n",
    "        return tsk.high_penalty\n",
    "    else:\n",
    "        return row.update_utility\n",
    "\n",
    "\n",
    "def add_utility(df):\n",
    "    df[\"update_utility\"] = tsk.standard_penalty\n",
    "    low = [\n",
    "        \"Plaça de Cort\",\n",
    "        \"Plaça de toros de Palma\",\n",
    "        \"Plaza Del Mercat\",\n",
    "        \"Plaça del Rei Joan Carles I\"\n",
    "    ]\n",
    "    high = [\n",
    "        \"Catedral-Basílica de Santa María de Mallorca\",\n",
    "        \"Castell de Bellver\",\n",
    "        \"Royal Palace of La Almudaina\",\n",
    "        \"Museu Fundación Juan March, Palma\",\n",
    "        \"Museo de Mallorca\",\n",
    "        \"Museu Diocesà de Mallorca\"\n",
    "    ]\n",
    "\n",
    "    df[\"update_utility\"] = df.apply(lambda row: set_penalty(row, low, high), axis=1)\n",
    "\n",
    "    return df"
   ]
  },
  {
   "cell_type": "code",
   "execution_count": 4,
   "id": "6eaef500",
   "metadata": {},
   "outputs": [],
   "source": [
    "tasks = pd.read_csv(\n",
    "        \"palmadata/palmapointsofinterest_cleaned.csv\",\n",
    "        header=0,\n",
    "        dtype={\n",
    "            \"place\": 'str',\n",
    "            \"description\": 'str',\n",
    "            \"latitude\": 'float',\n",
    "            \"longitude\": 'float',\n",
    "            \"stars\": 'float',\n",
    "            \"reviews\": 'float'\n",
    "        }\n",
    "    )"
   ]
  },
  {
   "cell_type": "code",
   "execution_count": 5,
   "id": "fd3f8b1a",
   "metadata": {},
   "outputs": [
    {
     "data": {
      "text/html": [
       "<div>\n",
       "<style scoped>\n",
       "    .dataframe tbody tr th:only-of-type {\n",
       "        vertical-align: middle;\n",
       "    }\n",
       "\n",
       "    .dataframe tbody tr th {\n",
       "        vertical-align: top;\n",
       "    }\n",
       "\n",
       "    .dataframe thead th {\n",
       "        text-align: right;\n",
       "    }\n",
       "</style>\n",
       "<table border=\"1\" class=\"dataframe\">\n",
       "  <thead>\n",
       "    <tr style=\"text-align: right;\">\n",
       "      <th></th>\n",
       "      <th>place</th>\n",
       "      <th>description</th>\n",
       "      <th>latitude</th>\n",
       "      <th>longitude</th>\n",
       "      <th>stars</th>\n",
       "      <th>reviews</th>\n",
       "      <th>utility</th>\n",
       "    </tr>\n",
       "  </thead>\n",
       "  <tbody>\n",
       "    <tr>\n",
       "      <th>0</th>\n",
       "      <td>cruise ship</td>\n",
       "      <td>tourist cruise ship</td>\n",
       "      <td>39.568276</td>\n",
       "      <td>2.637640</td>\n",
       "      <td>0.000000</td>\n",
       "      <td>0.0</td>\n",
       "      <td>0.000000</td>\n",
       "    </tr>\n",
       "    <tr>\n",
       "      <th>1</th>\n",
       "      <td>Catedral-Basílica de Santa María de Mallorca</td>\n",
       "      <td>Gothic place of worship on the seafront</td>\n",
       "      <td>39.567425</td>\n",
       "      <td>2.648299</td>\n",
       "      <td>4.674750</td>\n",
       "      <td>31176.0</td>\n",
       "      <td>0.951213</td>\n",
       "    </tr>\n",
       "    <tr>\n",
       "      <th>2</th>\n",
       "      <td>Castell de Bellver</td>\n",
       "      <td>Hilltop 1300s castle for panoramic views</td>\n",
       "      <td>39.563814</td>\n",
       "      <td>2.619354</td>\n",
       "      <td>4.436243</td>\n",
       "      <td>10446.0</td>\n",
       "      <td>0.749203</td>\n",
       "    </tr>\n",
       "    <tr>\n",
       "      <th>3</th>\n",
       "      <td>Royal Palace of La Almudaina</td>\n",
       "      <td>Historic palace of the Royal Family</td>\n",
       "      <td>39.567886</td>\n",
       "      <td>2.647022</td>\n",
       "      <td>4.420346</td>\n",
       "      <td>2310.0</td>\n",
       "      <td>0.681576</td>\n",
       "    </tr>\n",
       "    <tr>\n",
       "      <th>4</th>\n",
       "      <td>Tren Soller</td>\n",
       "      <td>Scenic electric railway dating to 1912</td>\n",
       "      <td>39.576665</td>\n",
       "      <td>2.653782</td>\n",
       "      <td>4.396561</td>\n",
       "      <td>5757.0</td>\n",
       "      <td>0.705649</td>\n",
       "    </tr>\n",
       "  </tbody>\n",
       "</table>\n",
       "</div>"
      ],
      "text/plain": [
       "                                          place  \\\n",
       "0                                   cruise ship   \n",
       "1  Catedral-Basílica de Santa María de Mallorca   \n",
       "2                            Castell de Bellver   \n",
       "3                  Royal Palace of La Almudaina   \n",
       "4                                   Tren Soller   \n",
       "\n",
       "                                description   latitude  longitude     stars  \\\n",
       "0                       tourist cruise ship  39.568276   2.637640  0.000000   \n",
       "1   Gothic place of worship on the seafront  39.567425   2.648299  4.674750   \n",
       "2  Hilltop 1300s castle for panoramic views  39.563814   2.619354  4.436243   \n",
       "3       Historic palace of the Royal Family  39.567886   2.647022  4.420346   \n",
       "4    Scenic electric railway dating to 1912  39.576665   2.653782  4.396561   \n",
       "\n",
       "   reviews   utility  \n",
       "0      0.0  0.000000  \n",
       "1  31176.0  0.951213  \n",
       "2  10446.0  0.749203  \n",
       "3   2310.0  0.681576  \n",
       "4   5757.0  0.705649  "
      ]
     },
     "execution_count": 5,
     "metadata": {},
     "output_type": "execute_result"
    }
   ],
   "source": [
    "tasks.head(5)"
   ]
  },
  {
   "cell_type": "code",
   "execution_count": 6,
   "id": "c1d4b9fb",
   "metadata": {},
   "outputs": [
    {
     "data": {
      "text/plain": [
       "1    0.951213\n",
       "2    0.749203\n",
       "3    0.681576\n",
       "Name: utility, dtype: float64"
      ]
     },
     "execution_count": 6,
     "metadata": {},
     "output_type": "execute_result"
    }
   ],
   "source": [
    "tasks.utility[1:4]"
   ]
  },
  {
   "cell_type": "code",
   "execution_count": null,
   "id": "3d44ba9b",
   "metadata": {},
   "outputs": [],
   "source": []
  }
 ],
 "metadata": {
  "kernelspec": {
   "display_name": "Python 3 (ipykernel)",
   "language": "python",
   "name": "python3"
  },
  "language_info": {
   "codemirror_mode": {
    "name": "ipython",
    "version": 3
   },
   "file_extension": ".py",
   "mimetype": "text/x-python",
   "name": "python",
   "nbconvert_exporter": "python",
   "pygments_lexer": "ipython3",
   "version": "3.12.4"
  }
 },
 "nbformat": 4,
 "nbformat_minor": 5
}
