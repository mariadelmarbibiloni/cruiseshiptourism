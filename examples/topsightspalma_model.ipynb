{
 "cells": [
  {
   "cell_type": "markdown",
   "metadata": {},
   "source": [
    "# Top sights Palma model"
   ]
  },
  {
   "cell_type": "code",
   "execution_count": 19,
   "metadata": {},
   "outputs": [
    {
     "name": "stdout",
     "output_type": "stream",
     "text": [
      "/home/mariadelmar/documents/madm/tfm/code/cruiseshiptourism\n"
     ]
    }
   ],
   "source": [
    "import os\n",
    "os.chdir('../')\n",
    "print(os.getcwd())"
   ]
  },
  {
   "cell_type": "code",
   "execution_count": 110,
   "metadata": {},
   "outputs": [],
   "source": [
    "from mpl_toolkits.basemap import Basemap\n",
    "import matplotlib.pyplot as plt\n",
    "import pandas as pd\n",
    "import numpy as np\n",
    "from tourist import Tourist \n",
    "import tasks as tsk\n",
    "from vincenty import vincenty"
   ]
  },
  {
   "cell_type": "markdown",
   "metadata": {},
   "source": [
    "First, read the csv with google palma points of interest."
   ]
  },
  {
   "cell_type": "code",
   "execution_count": 99,
   "metadata": {},
   "outputs": [],
   "source": [
    "topsights = pd.read_csv(\n",
    "            \"palmadata/palmapointsofinterest.csv\", \n",
    "            header = 0,\n",
    "            dtype = {\n",
    "                \"name\": 'str',\n",
    "                \"description\": 'str',\n",
    "                \"latitude\": 'float',\n",
    "                \"longitude\": 'float',\n",
    "                \"stars\": 'float',\n",
    "                \"reviews\": 'float'\n",
    "            }\n",
    "        )"
   ]
  },
  {
   "cell_type": "markdown",
   "metadata": {},
   "source": [
    "Add cruise ship location into topsights dataframe.  <br> Index must be 0."
   ]
  },
  {
   "cell_type": "code",
   "execution_count": 100,
   "metadata": {},
   "outputs": [],
   "source": [
    "shiprow = {\"name\": [\"cruise ship\"], \n",
    "           \"description\": [\"tourist cruise ship\"],\n",
    "           \"latitude\": [39.568276],\n",
    "           \"longitude\": [2.637640],\n",
    "           \"stars\": [0], \n",
    "           \"reviews\": [0]}\n",
    "\n",
    "shipdf = pd\\\n",
    "    .DataFrame(data=shiprow)\\\n",
    "    .astype(dtype={\n",
    "                \"name\": \"str\",\n",
    "                \"description\": \"str\",\n",
    "                \"latitude\": \"float\",\n",
    "                \"longitude\": \"float\",\n",
    "                \"stars\": \"float\",\n",
    "                \"reviews\": \"float\"\n",
    "            })\n",
    "\n",
    "topsights = pd.concat([shipdf,topsights]).reset_index(drop=True)"
   ]
  },
  {
   "cell_type": "code",
   "execution_count": 101,
   "metadata": {},
   "outputs": [
    {
     "data": {
      "text/html": [
       "<div>\n",
       "<style scoped>\n",
       "    .dataframe tbody tr th:only-of-type {\n",
       "        vertical-align: middle;\n",
       "    }\n",
       "\n",
       "    .dataframe tbody tr th {\n",
       "        vertical-align: top;\n",
       "    }\n",
       "\n",
       "    .dataframe thead th {\n",
       "        text-align: right;\n",
       "    }\n",
       "</style>\n",
       "<table border=\"1\" class=\"dataframe\">\n",
       "  <thead>\n",
       "    <tr style=\"text-align: right;\">\n",
       "      <th></th>\n",
       "      <th>name</th>\n",
       "      <th>description</th>\n",
       "      <th>latitude</th>\n",
       "      <th>longitude</th>\n",
       "      <th>stars</th>\n",
       "      <th>reviews</th>\n",
       "    </tr>\n",
       "  </thead>\n",
       "  <tbody>\n",
       "    <tr>\n",
       "      <th>0</th>\n",
       "      <td>cruise ship</td>\n",
       "      <td>tourist cruise ship</td>\n",
       "      <td>39.568276</td>\n",
       "      <td>2.637640</td>\n",
       "      <td>0.000000</td>\n",
       "      <td>0.0</td>\n",
       "    </tr>\n",
       "    <tr>\n",
       "      <th>1</th>\n",
       "      <td>Catedral-Basílica de Santa María de Mallorca</td>\n",
       "      <td>Gothic place of worship on the seafront</td>\n",
       "      <td>39.567425</td>\n",
       "      <td>2.648299</td>\n",
       "      <td>4.674750</td>\n",
       "      <td>31176.0</td>\n",
       "    </tr>\n",
       "    <tr>\n",
       "      <th>2</th>\n",
       "      <td>Castell de Bellver</td>\n",
       "      <td>Hilltop 1300s castle for panoramic views</td>\n",
       "      <td>39.563814</td>\n",
       "      <td>2.619354</td>\n",
       "      <td>4.436243</td>\n",
       "      <td>10446.0</td>\n",
       "    </tr>\n",
       "    <tr>\n",
       "      <th>3</th>\n",
       "      <td>Royal Palace of La Almudaina</td>\n",
       "      <td>Historic palace of the Royal Family</td>\n",
       "      <td>39.567886</td>\n",
       "      <td>2.647022</td>\n",
       "      <td>4.420346</td>\n",
       "      <td>2310.0</td>\n",
       "    </tr>\n",
       "    <tr>\n",
       "      <th>4</th>\n",
       "      <td>Palma Aquarium</td>\n",
       "      <td>Aquarium with huge shark-viewing tank</td>\n",
       "      <td>39.531374</td>\n",
       "      <td>2.729529</td>\n",
       "      <td>4.367786</td>\n",
       "      <td>14764.0</td>\n",
       "    </tr>\n",
       "    <tr>\n",
       "      <th>...</th>\n",
       "      <td>...</td>\n",
       "      <td>...</td>\n",
       "      <td>...</td>\n",
       "      <td>...</td>\n",
       "      <td>...</td>\n",
       "      <td>...</td>\n",
       "    </tr>\n",
       "    <tr>\n",
       "      <th>94</th>\n",
       "      <td>Playa Can Pastilla</td>\n",
       "      <td>Beach</td>\n",
       "      <td>39.533628</td>\n",
       "      <td>2.722827</td>\n",
       "      <td>4.333334</td>\n",
       "      <td>588.0</td>\n",
       "    </tr>\n",
       "    <tr>\n",
       "      <th>95</th>\n",
       "      <td>Monestir de la Real</td>\n",
       "      <td>Monastery and convent</td>\n",
       "      <td>39.604397</td>\n",
       "      <td>2.640168</td>\n",
       "      <td>4.411765</td>\n",
       "      <td>17.0</td>\n",
       "    </tr>\n",
       "    <tr>\n",
       "      <th>96</th>\n",
       "      <td>Ca'n Oms</td>\n",
       "      <td>Historical landmark</td>\n",
       "      <td>39.568796</td>\n",
       "      <td>2.649844</td>\n",
       "      <td>4.250000</td>\n",
       "      <td>8.0</td>\n",
       "    </tr>\n",
       "    <tr>\n",
       "      <th>97</th>\n",
       "      <td>La Misericòrdia</td>\n",
       "      <td>Art</td>\n",
       "      <td>39.574852</td>\n",
       "      <td>2.646963</td>\n",
       "      <td>4.286533</td>\n",
       "      <td>349.0</td>\n",
       "    </tr>\n",
       "    <tr>\n",
       "      <th>98</th>\n",
       "      <td>ABA ART LAB</td>\n",
       "      <td>Art</td>\n",
       "      <td>39.571106</td>\n",
       "      <td>2.642582</td>\n",
       "      <td>4.727272</td>\n",
       "      <td>44.0</td>\n",
       "    </tr>\n",
       "  </tbody>\n",
       "</table>\n",
       "<p>99 rows × 6 columns</p>\n",
       "</div>"
      ],
      "text/plain": [
       "                                            name  \\\n",
       "0                                    cruise ship   \n",
       "1   Catedral-Basílica de Santa María de Mallorca   \n",
       "2                             Castell de Bellver   \n",
       "3                   Royal Palace of La Almudaina   \n",
       "4                                 Palma Aquarium   \n",
       "..                                           ...   \n",
       "94                            Playa Can Pastilla   \n",
       "95                           Monestir de la Real   \n",
       "96                                      Ca'n Oms   \n",
       "97                               La Misericòrdia   \n",
       "98                                   ABA ART LAB   \n",
       "\n",
       "                                 description   latitude  longitude     stars  \\\n",
       "0                        tourist cruise ship  39.568276   2.637640  0.000000   \n",
       "1    Gothic place of worship on the seafront  39.567425   2.648299  4.674750   \n",
       "2   Hilltop 1300s castle for panoramic views  39.563814   2.619354  4.436243   \n",
       "3        Historic palace of the Royal Family  39.567886   2.647022  4.420346   \n",
       "4      Aquarium with huge shark-viewing tank  39.531374   2.729529  4.367786   \n",
       "..                                       ...        ...        ...       ...   \n",
       "94                                     Beach  39.533628   2.722827  4.333334   \n",
       "95                     Monastery and convent  39.604397   2.640168  4.411765   \n",
       "96                       Historical landmark  39.568796   2.649844  4.250000   \n",
       "97                                       Art  39.574852   2.646963  4.286533   \n",
       "98                                       Art  39.571106   2.642582  4.727272   \n",
       "\n",
       "    reviews  \n",
       "0       0.0  \n",
       "1   31176.0  \n",
       "2   10446.0  \n",
       "3    2310.0  \n",
       "4   14764.0  \n",
       "..      ...  \n",
       "94    588.0  \n",
       "95     17.0  \n",
       "96      8.0  \n",
       "97    349.0  \n",
       "98     44.0  \n",
       "\n",
       "[99 rows x 6 columns]"
      ]
     },
     "execution_count": 101,
     "metadata": {},
     "output_type": "execute_result"
    }
   ],
   "source": [
    "topsights"
   ]
  },
  {
   "cell_type": "markdown",
   "metadata": {},
   "source": [
    "## Locations"
   ]
  },
  {
   "cell_type": "markdown",
   "metadata": {},
   "source": [
    "There are locations outside from Palma. These locations must be removed."
   ]
  },
  {
   "cell_type": "code",
   "execution_count": 28,
   "metadata": {},
   "outputs": [
    {
     "data": {
      "text/plain": [
       "<matplotlib.collections.PathCollection at 0x7fd3c9d334f0>"
      ]
     },
     "execution_count": 28,
     "metadata": {},
     "output_type": "execute_result"
    },
    {
     "data": {
      "image/png": "[encoded data removed]",
      "text/plain": [
       "<Figure size 576x576 with 1 Axes>"
      ]
     },
     "metadata": {},
     "output_type": "display_data"
    }
   ],
   "source": [
    "# values\n",
    "latitude = topsights['latitude'].values\n",
    "longitude = topsights['longitude'].values\n",
    "\n",
    "# Map background\n",
    "fig = plt.figure(figsize=(8, 8))\n",
    "m = Basemap(\n",
    "            projection='merc', resolution='h',\n",
    "            llcrnrlat=39.055777,  # The lower left corner geographical latitude\n",
    "            llcrnrlon=2.310797,   # The lower left corner geographical longitude\n",
    "            urcrnrlat=40.025957,  # The upper right corner geographical latitude\n",
    "            urcrnrlon=3.508145   # The upper right corner geographical longitude\n",
    "        )\n",
    "\n",
    "m.drawcoastlines()\n",
    "m.drawmapboundary(fill_color='#C5E4FF')\n",
    "m.fillcontinents(color='#FAE2B1')\n",
    "\n",
    "# scatter data,color by stars, size by reviews\n",
    "m.scatter(longitude, latitude, latlon=True,\n",
    "          color='blue', alpha=1, zorder=10)"
   ]
  },
  {
   "cell_type": "markdown",
   "metadata": {},
   "source": [
    "Define center of Palma and maximum distance from this point."
   ]
  },
  {
   "cell_type": "code",
   "execution_count": 177,
   "metadata": {},
   "outputs": [],
   "source": [
    "center = {\"name\":\"center of Palma\",\n",
    "          \"latitude\": 39.579883,\n",
    "          \"longitude\": 2.651031}\n",
    "bellvercastle = topsights[topsights[\"name\"]==\"Castell de Bellver\"]\n",
    "\n",
    "maxdist = vincenty((center[\"latitude\"], center[\"longitude\"]),\n",
    "                   (bellvercastle.latitude.values, bellvercastle.longitude.values),\n",
    "                   miles=False)\n",
    "\n",
    "inpalma = [vincenty((center[\"latitude\"], center[\"longitude\"]), (p1,p2), miles=False) <= maxdist \n",
    "           for (p1,p2) in list(zip(topsights.latitude.values, topsights.longitude.values))]\n",
    "\n",
    "topsightspalma = topsights[inpalma]"
   ]
  },
  {
   "cell_type": "code",
   "execution_count": 188,
   "metadata": {},
   "outputs": [
    {
     "data": {
      "text/plain": [
       "<matplotlib.collections.PathCollection at 0x7fd3c8d6fcd0>"
      ]
     },
     "execution_count": 188,
     "metadata": {},
     "output_type": "execute_result"
    },
    {
     "data": {
      "image/png": "[encoded data removed]",
      "text/plain": [
       "<Figure size 576x576 with 1 Axes>"
      ]
     },
     "metadata": {},
     "output_type": "display_data"
    }
   ],
   "source": [
    "# values\n",
    "latitude = topsightspalma.latitude.values\n",
    "longitude = topsightspalma.longitude.values\n",
    "\n",
    "# Map background\n",
    "fig = plt.figure(figsize=(8, 8))\n",
    "m = Basemap(\n",
    "            projection='merc', resolution='h',\n",
    "            llcrnrlat=39.541089, # The lower left corner geographical latitude\n",
    "            llcrnrlon=2.582399,   # The lower left corner geographical longitude\n",
    "            urcrnrlat=39.601874,  # The upper right corner geographical latitude\n",
    "            urcrnrlon=2.723818 # The upper right corner geographical longitude\n",
    "        )\n",
    "\n",
    "m.drawcoastlines()\n",
    "m.drawmapboundary(fill_color='#C5E4FF')\n",
    "m.fillcontinents(color='#FAE2B1')\n",
    "\n",
    "# scatter data,color by stars, size by reviews\n",
    "m.scatter(longitude, latitude, latlon=True,\n",
    "          color='blue', alpha=1, zorder=10)\n",
    "\n",
    "m.scatter(longitude[0], latitude[0], latlon=True,\n",
    "          color=\"red\", alpha=1, zorder=10)"
   ]
  }
 ],
 "metadata": {
  "kernelspec": {
   "display_name": "Python 3",
   "language": "python",
   "name": "python3"
  },
  "language_info": {
   "codemirror_mode": {
    "name": "ipython",
    "version": 3
   },
   "file_extension": ".py",
   "mimetype": "text/x-python",
   "name": "python",
   "nbconvert_exporter": "python",
   "pygments_lexer": "ipython3",
   "version": "3.8.4"
  }
 },
 "nbformat": 4,
 "nbformat_minor": 4
}
