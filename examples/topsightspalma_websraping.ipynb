{
 "cells": [
  {
   "cell_type": "markdown",
   "metadata": {},
   "source": [
    "# Palma Top Sights Data"
   ]
  },
  {
   "cell_type": "markdown",
   "metadata": {},
   "source": [
    "### References\n",
    "https://towardsdatascience.com/everything-you-need-to-know-about-web-scraping-6541b241f27e <br>\n",
    "https://www.dataquest.io/blog/web-scraping-tutorial-python/ <br>\n",
    "https://www.crummy.com/software/BeautifulSoup/bs4/doc/"
   ]
  },
  {
   "cell_type": "markdown",
   "metadata": {},
   "source": [
    "### Web Scraping\n",
    "\n",
    "Para obtener la información sobre permisos de scraping en google, basta abrir el path www.google.com/robots.txt en el navegador.\n",
    "\n",
    "No tenemos permiso. Hay información que se puede obtener a través de una API de pago (sobre los comentarios i valoraciones de cada lugar de interés turístico).\n",
    "\n",
    "Empecemos con el web sraping de \n",
    "[Top Sights Palma](https://www.google.com/travel/things-to-do/see-all?g2lb=2502548%2C4258168%2C4260007%2C4270442%2C4274032%2C4305595%2C4306835%2C4317915%2C4319921%2C4328159%2C4364504%2C4366684%2C4367954%2C4371335%2C4381263%2C4386665%2C4395590%2C4398672%2C4401769%2C4403882%2C4270859%2C4284970%2C4291517%2C4307997&hl=en&gl=es&un=1&otf=1&dest_mid=%2Fm%2F0jwz5&dest_state_type=sattd&sa=X&ved=0ahUKEwijqJaO1crqAhWMkxQKHRhlDnYQx2gIFg#ttdm=39.568471_2.647707_15&ttdmf=%252Fm%252F07nkwn).\n"
   ]
  },
  {
   "cell_type": "code",
   "execution_count": 1,
   "metadata": {},
   "outputs": [],
   "source": [
    "import requests\n",
    "from bs4 import BeautifulSoup\n",
    "import pandas as pd\n",
    "import numpy as np"
   ]
  },
  {
   "cell_type": "code",
   "execution_count": 2,
   "metadata": {},
   "outputs": [],
   "source": [
    "palmatopsights = requests.get(\"https://www.google.com/travel/things-to-do/see-all?g2lb=2502548%2C4258168%2C4260007%2C4270442%2C4274032%2C4305595%2C4306835%2C4317915%2C4319921%2C4328159%2C4364504%2C4366684%2C4367954%2C4371335%2C4381263%2C4386665%2C4395590%2C4398672%2C4401769%2C4403882%2C4270859%2C4284970%2C4291517%2C4307997&hl=en&gl=es&un=1&otf=1&dest_mid=%2Fm%2F0jwz5&dest_state_type=sattd&sa=X&ved=0ahUKEwijqJaO1crqAhWMkxQKHRhlDnYQx2gIFg#ttdm=39.568471_2.647707_15&ttdmf=%252Fm%252F0lkjv\")"
   ]
  },
  {
   "cell_type": "code",
   "execution_count": 3,
   "metadata": {},
   "outputs": [
    {
     "data": {
      "text/plain": [
       "<title>Palma - Top sights</title>"
      ]
     },
     "execution_count": 3,
     "metadata": {},
     "output_type": "execute_result"
    }
   ],
   "source": [
    "soup_palma = BeautifulSoup(palmatopsights.content, 'html.parser')\n",
    "soup_palma.title"
   ]
  },
  {
   "cell_type": "code",
   "execution_count": 4,
   "metadata": {},
   "outputs": [],
   "source": [
    "data = soup_palma.find_all(\"script\")[-3]"
   ]
  },
  {
   "cell_type": "code",
   "execution_count": 5,
   "metadata": {},
   "outputs": [],
   "source": [
    "data_string = data.get_text()\n",
    "data_string[data_string.find(\"data:\")+5:data_string.rfind(\"]\")+1]\n",
    "data_list = eval(data_string[data_string.find(\"data:\")+5:data_string.rfind(\"]\")+1]\\\n",
    "     .replace(\"null\", \"'null'\") \\\n",
    "     .replace(\"false\", \"'false'\") \\\n",
    "     .replace(\"true\", \"'true'\")\n",
    "    )"
   ]
  },
  {
   "cell_type": "code",
   "execution_count": 6,
   "metadata": {},
   "outputs": [
    {
     "data": {
      "text/plain": [
       "98"
      ]
     },
     "execution_count": 6,
     "metadata": {},
     "output_type": "execute_result"
    }
   ],
   "source": [
    "pointsofinterest = data_list[0][0][0][9][0]\n",
    "len(pointsofinterest)"
   ]
  },
  {
   "cell_type": "code",
   "execution_count": 7,
   "metadata": {},
   "outputs": [
    {
     "data": {
      "text/plain": [
       "[['null',\n",
       "  'Plaza Mayor',\n",
       "  'Historic public square with craft market',\n",
       "  'null',\n",
       "  'null',\n",
       "  'null',\n",
       "  'null',\n",
       "  'null',\n",
       "  'null',\n",
       "  'null',\n",
       "  'null',\n",
       "  'null',\n",
       "  [[[25, '1'], ['null', 3, [1, 9]], 'null', 'null', 'false'],\n",
       "   ['null',\n",
       "    [['1339700287635925341', '-4489038685648050635'],\n",
       "     [395713713, 26518132],\n",
       "     'null',\n",
       "     'null',\n",
       "     'null',\n",
       "     '/g/121_59lr'],\n",
       "    'Plaza Mayor',\n",
       "    'null',\n",
       "    'null',\n",
       "    'null',\n",
       "    'null',\n",
       "    [[15,\n",
       "      ['type.googleapis.com/google.search.platform.save.v2.DestinationsDetails',\n",
       "       ['/m/0jwz5', [['dest_mid']]]]]],\n",
       "    'null',\n",
       "    'null',\n",
       "    'null',\n",
       "    'null',\n",
       "    'null',\n",
       "    'null',\n",
       "    'null',\n",
       "    'null',\n",
       "    [1, ['1339700287635925341', '-4489038685648050635']]],\n",
       "   'false',\n",
       "   'null',\n",
       "   '/g/121_59lr'],\n",
       "  [['null',\n",
       "    'https://encrypted-tbn3.gstatic.com/images?q=tbn:ANd9GcRq28HHnLveJKPraj9K6EvqpnJutMHRjv9VAZjPMBvMQSmTdF6m',\n",
       "    ['https://lh5.googleusercontent.com/proxy/MdjOWuN6wOl9ABtwQVGzCw89eJPifxfbdZyw88LB83ItKlmxrj3MrwnaoQAXAhG7Y2Gqsz8IODzct4_5fXCO7fLjCwqmj0h3JlNqe7Z1O--UFKQqnFE6_ocRGuQPGqOWOH8-1NWtpEgWigATUEeCo4UEqnZDZyZ7RhIj7ffcv2HZ'],\n",
       "    'null',\n",
       "    '-6015664566925256961',\n",
       "    'null',\n",
       "    1.5041782729805013,\n",
       "    [[], 'true']],\n",
       "   ['null',\n",
       "    'null',\n",
       "    ['null', [[[395713713, 26518132]], 14, 'null', 1, []]],\n",
       "    'null',\n",
       "    'null',\n",
       "    'null',\n",
       "    'null',\n",
       "    [[], 'true']]],\n",
       "  'null',\n",
       "  [39.571371299999996, 2.6518132],\n",
       "  'null',\n",
       "  '/g/121_59lr',\n",
       "  'false',\n",
       "  'null',\n",
       "  'null',\n",
       "  'null',\n",
       "  [],\n",
       "  '/m/0jwz5',\n",
       "  'false',\n",
       "  [4.244744, 21071],\n",
       "  'https://www.google.com/search?gsas=1&q=Plaza+Mayor&ibp=gwp;0,7&ludocid=13957705388061500981',\n",
       "  'ChIJXSkHRlCSlxIRNSb2bhm7s8E',\n",
       "  [2]]]"
      ]
     },
     "execution_count": 7,
     "metadata": {},
     "output_type": "execute_result"
    }
   ],
   "source": [
    "pointsofinterest[6]"
   ]
  },
  {
   "cell_type": "code",
   "execution_count": 8,
   "metadata": {},
   "outputs": [
    {
     "data": {
      "text/plain": [
       "[4.244744, 21071]"
      ]
     },
     "execution_count": 8,
     "metadata": {},
     "output_type": "execute_result"
    }
   ],
   "source": [
    "pointsofinterest[6][0][25]"
   ]
  },
  {
   "cell_type": "code",
   "execution_count": 9,
   "metadata": {},
   "outputs": [],
   "source": [
    "point = {\n",
    "    \"name\": pointsofinterest[6][0][1],\n",
    "    \"description\": pointsofinterest[6][0][2],\n",
    "    \"latitude\": pointsofinterest[6][0][15][0],\n",
    "    \"longitude\": pointsofinterest[6][0][15][1],\n",
    "    \"stars\": pointsofinterest[6][0][25][0],\n",
    "    \"reviews\": pointsofinterest[6][0][25][1]\n",
    "}"
   ]
  },
  {
   "cell_type": "code",
   "execution_count": 10,
   "metadata": {},
   "outputs": [
    {
     "data": {
      "text/plain": [
       "{'description': 'Historic public square with craft market',\n",
       " 'latitude': 39.571371299999996,\n",
       " 'longitude': 2.6518132,\n",
       " 'name': 'Plaza Mayor',\n",
       " 'reviews': 21071,\n",
       " 'stars': 4.244744}"
      ]
     },
     "execution_count": 10,
     "metadata": {},
     "output_type": "execute_result"
    }
   ],
   "source": [
    "point"
   ]
  },
  {
   "cell_type": "code",
   "execution_count": 50,
   "metadata": {},
   "outputs": [],
   "source": [
    "data = pd.DataFrame({\n",
    "    \"name\": pd.Series([], dtype='str'),\n",
    "    \"description\": pd.Series([], dtype='str'),\n",
    "    \"latitude\": pd.Series([], dtype='float'),\n",
    "    \"longitude\": pd.Series([], dtype='float'),\n",
    "    \"stars\": pd.Series([], dtype='float'),\n",
    "    \"reviews\": pd.Series([], dtype='float')\n",
    "})"
   ]
  },
  {
   "cell_type": "code",
   "execution_count": 51,
   "metadata": {},
   "outputs": [
    {
     "data": {
      "text/plain": [
       "description     object\n",
       "latitude       float64\n",
       "longitude      float64\n",
       "name            object\n",
       "reviews        float64\n",
       "stars          float64\n",
       "dtype: object"
      ]
     },
     "execution_count": 51,
     "metadata": {},
     "output_type": "execute_result"
    }
   ],
   "source": [
    "data.dtypes"
   ]
  },
  {
   "cell_type": "code",
   "execution_count": 47,
   "metadata": {},
   "outputs": [],
   "source": [
    "def valueifnull(value, idx=0):\n",
    "    if value==\"null\":\n",
    "        return np.nan\n",
    "    elif type(value)==list:\n",
    "        return value[idx]\n",
    "    else:\n",
    "        return value"
   ]
  },
  {
   "cell_type": "code",
   "execution_count": 52,
   "metadata": {},
   "outputs": [],
   "source": [
    "for pointinfo in pointsofinterest:\n",
    "    point = {\n",
    "        \"name\":  valueifnull(pointinfo[0][1]),\n",
    "        \"description\":  valueifnull(pointinfo[0][2]),\n",
    "        \"latitude\": valueifnull(pointinfo[0][15], 0),\n",
    "        \"longitude\": valueifnull(pointinfo[0][15], 1),\n",
    "        \"stars\": valueifnull(pointinfo[0][25], 0),\n",
    "        \"reviews\": valueifnull(pointinfo[0][25], 1)\n",
    "    }\n",
    "    data = data.append(point, ignore_index=True)"
   ]
  },
  {
   "cell_type": "code",
   "execution_count": 26,
   "metadata": {},
   "outputs": [
    {
     "data": {
      "text/plain": [
       "(98, 6)"
      ]
     },
     "execution_count": 26,
     "metadata": {},
     "output_type": "execute_result"
    }
   ],
   "source": [
    "data.shape"
   ]
  },
  {
   "cell_type": "code",
   "execution_count": 15,
   "metadata": {},
   "outputs": [
    {
     "data": {
      "text/plain": [
       "(4.36028637654321, 2314.938271604938)"
      ]
     },
     "execution_count": 15,
     "metadata": {},
     "output_type": "execute_result"
    }
   ],
   "source": [
    "data.stars.mean(), data.reviews.mean()"
   ]
  },
  {
   "cell_type": "code",
   "execution_count": 16,
   "metadata": {},
   "outputs": [
    {
     "data": {
      "text/plain": [
       "(4.394965, 335.0)"
      ]
     },
     "execution_count": 16,
     "metadata": {},
     "output_type": "execute_result"
    }
   ],
   "source": [
    "data.stars.median(), data.reviews.median()"
   ]
  },
  {
   "cell_type": "code",
   "execution_count": 17,
   "metadata": {},
   "outputs": [
    {
     "data": {
      "text/plain": [
       "(3.0, 1)"
      ]
     },
     "execution_count": 17,
     "metadata": {},
     "output_type": "execute_result"
    }
   ],
   "source": [
    "data.stars.min(), data.reviews.min()"
   ]
  },
  {
   "cell_type": "code",
   "execution_count": 27,
   "metadata": {},
   "outputs": [
    {
     "data": {
      "text/html": [
       "<div>\n",
       "<style scoped>\n",
       "    .dataframe tbody tr th:only-of-type {\n",
       "        vertical-align: middle;\n",
       "    }\n",
       "\n",
       "    .dataframe tbody tr th {\n",
       "        vertical-align: top;\n",
       "    }\n",
       "\n",
       "    .dataframe thead th {\n",
       "        text-align: right;\n",
       "    }\n",
       "</style>\n",
       "<table border=\"1\" class=\"dataframe\">\n",
       "  <thead>\n",
       "    <tr style=\"text-align: right;\">\n",
       "      <th></th>\n",
       "      <th>name</th>\n",
       "      <th>description</th>\n",
       "      <th>longitude</th>\n",
       "      <th>stars</th>\n",
       "      <th>latitude</th>\n",
       "      <th>reviews</th>\n",
       "    </tr>\n",
       "  </thead>\n",
       "  <tbody>\n",
       "    <tr>\n",
       "      <th>0</th>\n",
       "      <td>Catedral-Basílica de Santa María de Mallorca</td>\n",
       "      <td>Gothic place of worship on the seafront</td>\n",
       "      <td>2.648299</td>\n",
       "      <td>4.67475</td>\n",
       "      <td>39.567425</td>\n",
       "      <td>31176</td>\n",
       "    </tr>\n",
       "    <tr>\n",
       "      <th>1</th>\n",
       "      <td>Castell de Bellver</td>\n",
       "      <td>Hilltop 1300s castle for panoramic views</td>\n",
       "      <td>2.619354</td>\n",
       "      <td>4.43624</td>\n",
       "      <td>39.563814</td>\n",
       "      <td>10446</td>\n",
       "    </tr>\n",
       "    <tr>\n",
       "      <th>2</th>\n",
       "      <td>Royal Palace of La Almudaina</td>\n",
       "      <td>Historic palace of the Royal Family</td>\n",
       "      <td>2.647022</td>\n",
       "      <td>4.42035</td>\n",
       "      <td>39.567886</td>\n",
       "      <td>2310</td>\n",
       "    </tr>\n",
       "    <tr>\n",
       "      <th>3</th>\n",
       "      <td>Palma Aquarium</td>\n",
       "      <td>Aquarium with huge shark-viewing tank</td>\n",
       "      <td>2.729529</td>\n",
       "      <td>4.36779</td>\n",
       "      <td>39.531374</td>\n",
       "      <td>14764</td>\n",
       "    </tr>\n",
       "    <tr>\n",
       "      <th>4</th>\n",
       "      <td>Tren Soller</td>\n",
       "      <td>Scenic electric railway dating to 1912</td>\n",
       "      <td>2.653782</td>\n",
       "      <td>4.39656</td>\n",
       "      <td>39.576665</td>\n",
       "      <td>5757</td>\n",
       "    </tr>\n",
       "  </tbody>\n",
       "</table>\n",
       "</div>"
      ],
      "text/plain": [
       "                                           name  \\\n",
       "0  Catedral-Basílica de Santa María de Mallorca   \n",
       "1                            Castell de Bellver   \n",
       "2                  Royal Palace of La Almudaina   \n",
       "3                                Palma Aquarium   \n",
       "4                                   Tren Soller   \n",
       "\n",
       "                                description  longitude    stars   latitude  \\\n",
       "0   Gothic place of worship on the seafront   2.648299  4.67475  39.567425   \n",
       "1  Hilltop 1300s castle for panoramic views   2.619354  4.43624  39.563814   \n",
       "2       Historic palace of the Royal Family   2.647022  4.42035  39.567886   \n",
       "3     Aquarium with huge shark-viewing tank   2.729529  4.36779  39.531374   \n",
       "4    Scenic electric railway dating to 1912   2.653782  4.39656  39.576665   \n",
       "\n",
       "  reviews  \n",
       "0   31176  \n",
       "1   10446  \n",
       "2    2310  \n",
       "3   14764  \n",
       "4    5757  "
      ]
     },
     "execution_count": 27,
     "metadata": {},
     "output_type": "execute_result"
    }
   ],
   "source": [
    "data.head()"
   ]
  },
  {
   "cell_type": "code",
   "execution_count": 53,
   "metadata": {},
   "outputs": [
    {
     "data": {
      "text/plain": [
       "description     object\n",
       "latitude       float64\n",
       "longitude      float64\n",
       "name            object\n",
       "reviews        float64\n",
       "stars          float64\n",
       "dtype: object"
      ]
     },
     "execution_count": 53,
     "metadata": {},
     "output_type": "execute_result"
    }
   ],
   "source": [
    "data.dtypes"
   ]
  }
 ],
 "metadata": {
  "kernelspec": {
   "display_name": "Python 3",
   "language": "python",
   "name": "python3"
  },
  "language_info": {
   "codemirror_mode": {
    "name": "ipython",
    "version": 3
   },
   "file_extension": ".py",
   "mimetype": "text/x-python",
   "name": "python",
   "nbconvert_exporter": "python",
   "pygments_lexer": "ipython3",
   "version": "3.8.4"
  }
 },
 "nbformat": 4,
 "nbformat_minor": 2
}
