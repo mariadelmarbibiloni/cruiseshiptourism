{
 "cells": [
  {
   "cell_type": "markdown",
   "metadata": {},
   "source": [
    "# Basemap example"
   ]
  },
  {
   "cell_type": "markdown",
   "metadata": {},
   "source": [
    "## References\n",
    "https://matplotlib.org/basemap/users/geography.html <br>\n",
    "https://jakevdp.github.io/PythonDataScienceHandbook/04.13-geographic-data-with-basemap.html"
   ]
  },
  {
   "cell_type": "markdown",
   "metadata": {},
   "source": [
    "## Example"
   ]
  },
  {
   "cell_type": "code",
   "execution_count": 1,
   "metadata": {},
   "outputs": [],
   "source": [
    "from mpl_toolkits.basemap import Basemap\n",
    "import matplotlib.pyplot as plt\n",
    "import pandas as pd"
   ]
  },
  {
   "cell_type": "code",
   "execution_count": 2,
   "metadata": {},
   "outputs": [],
   "source": [
    "palma = pd.read_csv(\n",
    "            \"cruiseshiptourism_palma/data/palmapointsofinterest.csv\", \n",
    "            header = 0,\n",
    "            dtype = {\n",
    "                \"name\": 'str',\n",
    "                \"description\": 'str',\n",
    "                \"latitude\": 'float',\n",
    "                \"longitude\": 'float',\n",
    "                \"stars\": 'float',\n",
    "                \"reviews\": 'float'\n",
    "            }\n",
    "        )"
   ]
  },
  {
   "cell_type": "code",
   "execution_count": 3,
   "metadata": {},
   "outputs": [
    {
     "data": {
      "text/plain": [
       "description     object\n",
       "latitude       float64\n",
       "longitude      float64\n",
       "name            object\n",
       "reviews        float64\n",
       "stars          float64\n",
       "dtype: object"
      ]
     },
     "execution_count": 3,
     "metadata": {},
     "output_type": "execute_result"
    }
   ],
   "source": [
    "palma.dtypes"
   ]
  },
  {
   "cell_type": "code",
   "execution_count": 8,
   "metadata": {},
   "outputs": [
    {
     "data": {
      "text/html": [
       "<div>\n",
       "<style scoped>\n",
       "    .dataframe tbody tr th:only-of-type {\n",
       "        vertical-align: middle;\n",
       "    }\n",
       "\n",
       "    .dataframe tbody tr th {\n",
       "        vertical-align: top;\n",
       "    }\n",
       "\n",
       "    .dataframe thead th {\n",
       "        text-align: right;\n",
       "    }\n",
       "</style>\n",
       "<table border=\"1\" class=\"dataframe\">\n",
       "  <thead>\n",
       "    <tr style=\"text-align: right;\">\n",
       "      <th></th>\n",
       "      <th>description</th>\n",
       "      <th>latitude</th>\n",
       "      <th>longitude</th>\n",
       "      <th>name</th>\n",
       "      <th>reviews</th>\n",
       "      <th>stars</th>\n",
       "    </tr>\n",
       "  </thead>\n",
       "  <tbody>\n",
       "    <tr>\n",
       "      <th>0</th>\n",
       "      <td>Gothic place of worship on the seafront</td>\n",
       "      <td>39.567425</td>\n",
       "      <td>2.648299</td>\n",
       "      <td>Catedral-Basílica de Santa María de Mallorca</td>\n",
       "      <td>31176.0</td>\n",
       "      <td>4.674750</td>\n",
       "    </tr>\n",
       "    <tr>\n",
       "      <th>1</th>\n",
       "      <td>Hilltop 1300s castle for panoramic views</td>\n",
       "      <td>39.563814</td>\n",
       "      <td>2.619354</td>\n",
       "      <td>Castell de Bellver</td>\n",
       "      <td>10446.0</td>\n",
       "      <td>4.436243</td>\n",
       "    </tr>\n",
       "    <tr>\n",
       "      <th>2</th>\n",
       "      <td>Historic palace of the Royal Family</td>\n",
       "      <td>39.567886</td>\n",
       "      <td>2.647022</td>\n",
       "      <td>Royal Palace of La Almudaina</td>\n",
       "      <td>2310.0</td>\n",
       "      <td>4.420346</td>\n",
       "    </tr>\n",
       "    <tr>\n",
       "      <th>3</th>\n",
       "      <td>Aquarium with huge shark-viewing tank</td>\n",
       "      <td>39.531374</td>\n",
       "      <td>2.729529</td>\n",
       "      <td>Palma Aquarium</td>\n",
       "      <td>14764.0</td>\n",
       "      <td>4.367786</td>\n",
       "    </tr>\n",
       "    <tr>\n",
       "      <th>4</th>\n",
       "      <td>Scenic electric railway dating to 1912</td>\n",
       "      <td>39.576665</td>\n",
       "      <td>2.653782</td>\n",
       "      <td>Tren Soller</td>\n",
       "      <td>5757.0</td>\n",
       "      <td>4.396561</td>\n",
       "    </tr>\n",
       "    <tr>\n",
       "      <th>5</th>\n",
       "      <td>Modern &amp; contemporary art collection</td>\n",
       "      <td>39.570139</td>\n",
       "      <td>2.641112</td>\n",
       "      <td>Es Baluard Museu d'Art Contemporani de Palma</td>\n",
       "      <td>2513.0</td>\n",
       "      <td>4.257859</td>\n",
       "    </tr>\n",
       "    <tr>\n",
       "      <th>6</th>\n",
       "      <td>Historic public square with craft market</td>\n",
       "      <td>39.571371</td>\n",
       "      <td>2.651813</td>\n",
       "      <td>Plaza Mayor</td>\n",
       "      <td>21071.0</td>\n",
       "      <td>4.244744</td>\n",
       "    </tr>\n",
       "    <tr>\n",
       "      <th>7</th>\n",
       "      <td>Historic sanctuary &amp; pilgrimage site</td>\n",
       "      <td>39.822118</td>\n",
       "      <td>2.884384</td>\n",
       "      <td>Santuari de Lluc</td>\n",
       "      <td>4139.0</td>\n",
       "      <td>4.381493</td>\n",
       "    </tr>\n",
       "    <tr>\n",
       "      <th>8</th>\n",
       "      <td>Venue with recreated Spanish landmarks</td>\n",
       "      <td>39.572720</td>\n",
       "      <td>2.627968</td>\n",
       "      <td>Poble Espanyol de Palma</td>\n",
       "      <td>2430.0</td>\n",
       "      <td>4.057202</td>\n",
       "    </tr>\n",
       "    <tr>\n",
       "      <th>9</th>\n",
       "      <td>Historic building with Gothic design</td>\n",
       "      <td>39.568358</td>\n",
       "      <td>2.644337</td>\n",
       "      <td>Lonja de Mallorca</td>\n",
       "      <td>1956.0</td>\n",
       "      <td>4.441206</td>\n",
       "    </tr>\n",
       "  </tbody>\n",
       "</table>\n",
       "</div>"
      ],
      "text/plain": [
       "                                description   latitude  longitude  \\\n",
       "0   Gothic place of worship on the seafront  39.567425   2.648299   \n",
       "1  Hilltop 1300s castle for panoramic views  39.563814   2.619354   \n",
       "2       Historic palace of the Royal Family  39.567886   2.647022   \n",
       "3     Aquarium with huge shark-viewing tank  39.531374   2.729529   \n",
       "4    Scenic electric railway dating to 1912  39.576665   2.653782   \n",
       "5      Modern & contemporary art collection  39.570139   2.641112   \n",
       "6  Historic public square with craft market  39.571371   2.651813   \n",
       "7      Historic sanctuary & pilgrimage site  39.822118   2.884384   \n",
       "8    Venue with recreated Spanish landmarks  39.572720   2.627968   \n",
       "9      Historic building with Gothic design  39.568358   2.644337   \n",
       "\n",
       "                                           name  reviews     stars  \n",
       "0  Catedral-Basílica de Santa María de Mallorca  31176.0  4.674750  \n",
       "1                            Castell de Bellver  10446.0  4.436243  \n",
       "2                  Royal Palace of La Almudaina   2310.0  4.420346  \n",
       "3                                Palma Aquarium  14764.0  4.367786  \n",
       "4                                   Tren Soller   5757.0  4.396561  \n",
       "5  Es Baluard Museu d'Art Contemporani de Palma   2513.0  4.257859  \n",
       "6                                   Plaza Mayor  21071.0  4.244744  \n",
       "7                              Santuari de Lluc   4139.0  4.381493  \n",
       "8                       Poble Espanyol de Palma   2430.0  4.057202  \n",
       "9                             Lonja de Mallorca   1956.0  4.441206  "
      ]
     },
     "execution_count": 8,
     "metadata": {},
     "output_type": "execute_result"
    }
   ],
   "source": [
    "palma.head(10)"
   ]
  },
  {
   "cell_type": "markdown",
   "metadata": {},
   "source": [
    "### Solo localizaciones"
   ]
  },
  {
   "cell_type": "code",
   "execution_count": 5,
   "metadata": {},
   "outputs": [
    {
     "data": {
      "text/plain": [
       "<matplotlib.collections.PathCollection at 0x7f1a0e66dc10>"
      ]
     },
     "execution_count": 5,
     "metadata": {},
     "output_type": "execute_result"
    },
    {
     "data": {
      "image/png": "[encoded data removed]",
      "text/plain": [
       "<Figure size 576x576 with 1 Axes>"
      ]
     },
     "metadata": {},
     "output_type": "display_data"
    }
   ],
   "source": [
    "# values\n",
    "latitude = palma['latitude'].values\n",
    "longitude = palma['longitude'].values\n",
    "\n",
    "# Map background\n",
    "fig = plt.figure(figsize=(8, 8))\n",
    "m = Basemap(\n",
    "            projection='merc', resolution='h',\n",
    "            llcrnrlat=39.055777,  # The lower left corner geographical latitude\n",
    "            llcrnrlon=2.310797,   # The lower left corner geographical longitude\n",
    "            urcrnrlat=40.025957,  # The upper right corner geographical latitude\n",
    "            urcrnrlon=3.508145   # The upper right corner geographical longitude\n",
    "        )\n",
    "\n",
    "m.drawcoastlines()\n",
    "m.drawmapboundary(fill_color='#C5E4FF')\n",
    "m.fillcontinents(color='#FAE2B1')\n",
    "\n",
    "# scatter data,color by stars, size by reviews\n",
    "m.scatter(longitude, latitude, latlon=True,\n",
    "          cmap='Reds', alpha=1, zorder=10)\n"
   ]
  },
  {
   "cell_type": "markdown",
   "metadata": {},
   "source": [
    "### Localizaciones con utilidad y número de comentarios"
   ]
  },
  {
   "cell_type": "code",
   "execution_count": 6,
   "metadata": {},
   "outputs": [],
   "source": [
    "palma_clean = palma.dropna()"
   ]
  },
  {
   "cell_type": "code",
   "execution_count": 7,
   "metadata": {},
   "outputs": [
    {
     "data": {
      "text/plain": [
       "<matplotlib.collections.PathCollection at 0x7f1a0e1262e0>"
      ]
     },
     "execution_count": 7,
     "metadata": {},
     "output_type": "execute_result"
    },
    {
     "data": {
      "image/png": "[encoded data removed]",
      "text/plain": [
       "<Figure size 576x576 with 1 Axes>"
      ]
     },
     "metadata": {},
     "output_type": "display_data"
    }
   ],
   "source": [
    "# New values\n",
    "latitude = palma_clean['latitude'].values\n",
    "longitude = palma_clean['longitude'].values\n",
    "stars = palma_clean['stars'].values\n",
    "reviews = palma_clean['reviews'].values\n",
    "\n",
    "# Map background\n",
    "fig = plt.figure(figsize=(8, 8))\n",
    "m = Basemap(\n",
    "            projection='merc', resolution='h',\n",
    "            llcrnrlat=39.055777,  # The lower left corner geographical latitude\n",
    "            llcrnrlon=2.310797,   # The lower left corner geographical longitude\n",
    "            urcrnrlat=40.025957,  # The upper right corner geographical latitude\n",
    "            urcrnrlon=3.508145   # The upper right corner geographical longitude\n",
    "        )\n",
    "\n",
    "m.drawcoastlines()\n",
    "m.drawmapboundary(fill_color='#C5E4FF')\n",
    "m.fillcontinents(color='#FAE2B1')\n",
    "\n",
    "norm_reviews = (reviews-min(reviews))/(max(reviews)-min(reviews))\n",
    "# scatter data,color by stars, size by reviews\n",
    "m.scatter(longitude, latitude, latlon=True,\n",
    "          c=stars, s=norm_reviews*100,\n",
    "          cmap='Reds', alpha=0.5, zorder=10)"
   ]
  }
 ],
 "metadata": {
  "kernelspec": {
   "display_name": "Python 3",
   "language": "python",
   "name": "python3"
  },
  "language_info": {
   "codemirror_mode": {
    "name": "ipython",
    "version": 3
   },
   "file_extension": ".py",
   "mimetype": "text/x-python",
   "name": "python",
   "nbconvert_exporter": "python",
   "pygments_lexer": "ipython3",
   "version": "3.8.4"
  }
 },
 "nbformat": 4,
 "nbformat_minor": 2
}
