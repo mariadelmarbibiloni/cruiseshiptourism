{
 "cells": [
  {
   "cell_type": "code",
   "execution_count": 1,
   "id": "472b1e7e",
   "metadata": {},
   "outputs": [],
   "source": [
    "import math\n",
    "import numpy as np\n",
    "from scipy.spatial.distance import pdist, squareform\n",
    "from vincenty import vincenty"
   ]
  },
  {
   "cell_type": "code",
   "execution_count": 2,
   "id": "03a8a6f9",
   "metadata": {},
   "outputs": [],
   "source": [
    "def get_distance_matrix(lat, lon):\n",
    "    coor_list = list(zip(lat, lon))\n",
    "    return squareform(pdist(coor_list, lambda p1, p2: vincenty(p1, p2, miles=False)))"
   ]
  },
  {
   "cell_type": "code",
   "execution_count": 3,
   "id": "8a3c56ae",
   "metadata": {},
   "outputs": [
    {
     "data": {
      "text/plain": [
       "array([[0.      , 0.920818, 1.647568, 0.807367, 1.670699],\n",
       "       [0.920818, 0.      , 2.519433, 0.121112, 1.128867],\n",
       "       [1.647568, 2.519433, 0.      , 2.420176, 3.284361],\n",
       "       [0.807367, 0.121112, 2.420176, 0.      , 1.134601],\n",
       "       [1.670699, 1.128867, 3.284361, 1.134601, 0.      ]])"
      ]
     },
     "execution_count": 3,
     "metadata": {},
     "output_type": "execute_result"
    }
   ],
   "source": [
    "dmatrix = get_distance_matrix([39.568276, 39.5674251, 39.5638143, 39.5678864, 39.576665],\n",
    "                    [2.63764, 2.6482994, 2.6193542, 2.6470222, 2.653782])\n",
    "dmatrix"
   ]
  },
  {
   "cell_type": "code",
   "execution_count": 4,
   "id": "0ab89e1f",
   "metadata": {},
   "outputs": [
    {
     "data": {
      "text/plain": [
       "array([0.5 , 0.1 , 0.25, 0.  , 0.7 ])"
      ]
     },
     "execution_count": 4,
     "metadata": {},
     "output_type": "execute_result"
    }
   ],
   "source": [
    "utilities = np.array([0.5, 0.1, 0.25, 0, 0.7])\n",
    "utilities"
   ]
  },
  {
   "cell_type": "code",
   "execution_count": 5,
   "id": "b5b289d8",
   "metadata": {},
   "outputs": [],
   "source": [
    "# tsk.get_transition_matrix(dist_matrix[i:i+1], tasks.utility, theta, 2, aggregation_function)\n",
    "\n",
    "# Insert row i as dist_matrix to get possibilities vector for task i\n",
    "#def get_transition_matrix(dist_matrix, utilities, theta, n, aggregation_function=\"product\"):\n",
    "#    utilities_list = np.array(utilities)\n",
    "#    utilities_matrix = np.tile(utilities_list, (dist_matrix.shape[0], 1))\n",
    "#    rf_distance_matrix = theta**n/ (theta**n + dist_matrix**n)\n",
    "#    aggregate = AggregationFunctions.select(aggregation_function)\n",
    "#    return aggregate([utilities_matrix, rf_distance_matrix])\n",
    "\n",
    "i = 3\n",
    "theta = dmatrix.max()/2\n",
    "n = 2\n",
    "dist_matrix = dmatrix[i:i+1]\n",
    "\n",
    "utilities_list = np.array(utilities)\n",
    "utilities_matrix = np.tile(utilities_list, (dist_matrix.shape[0], 1))\n",
    "rf_distance_matrix = theta**n/ (theta**n + dist_matrix**n)"
   ]
  },
  {
   "cell_type": "code",
   "execution_count": 6,
   "id": "75a90e0d",
   "metadata": {},
   "outputs": [
    {
     "data": {
      "text/plain": [
       "array([[0.5 , 0.1 , 0.25, 0.  , 0.7 ]])"
      ]
     },
     "execution_count": 6,
     "metadata": {},
     "output_type": "execute_result"
    }
   ],
   "source": [
    "utilities_matrix"
   ]
  },
  {
   "cell_type": "code",
   "execution_count": 7,
   "id": "d53e1c00",
   "metadata": {},
   "outputs": [
    {
     "data": {
      "text/plain": [
       "[array([[0.5 , 0.1 , 0.25, 0.  , 0.7 ]]),\n",
       " array([[0.805339  , 0.99459026, 0.31526234, 1.        , 0.67688384]])]"
      ]
     },
     "execution_count": 7,
     "metadata": {},
     "output_type": "execute_result"
    }
   ],
   "source": [
    "functions = [utilities_matrix, rf_distance_matrix]\n",
    "functions"
   ]
  },
  {
   "cell_type": "code",
   "execution_count": 108,
   "id": "c4786422",
   "metadata": {},
   "outputs": [
    {
     "data": {
      "text/plain": [
       "array([[0.5       , 0.1       , 0.25      , 0.        , 0.67688384]])"
      ]
     },
     "execution_count": 108,
     "metadata": {},
     "output_type": "execute_result"
    }
   ],
   "source": [
    "np.minimum(*functions)"
   ]
  },
  {
   "cell_type": "code",
   "execution_count": 26,
   "id": "baa103ac",
   "metadata": {},
   "outputs": [
    {
     "data": {
      "text/plain": [
       "[0.3, 0.7]"
      ]
     },
     "execution_count": 26,
     "metadata": {},
     "output_type": "execute_result"
    }
   ],
   "source": [
    "weight = [0.3, 0.7]\n",
    "weight"
   ]
  },
  {
   "cell_type": "code",
   "execution_count": 14,
   "id": "a6176ff2",
   "metadata": {},
   "outputs": [
    {
     "data": {
      "text/plain": [
       "[array([[0.5 , 0.1 , 0.25, 0.  , 0.7 ]]),\n",
       " array([[0.805339  , 0.99459026, 0.31526234, 1.        , 0.67688384]])]"
      ]
     },
     "execution_count": 14,
     "metadata": {},
     "output_type": "execute_result"
    }
   ],
   "source": [
    "functions"
   ]
  },
  {
   "cell_type": "code",
   "execution_count": 21,
   "id": "5b6da7ce",
   "metadata": {},
   "outputs": [
    {
     "data": {
      "text/plain": [
       "[array([0.5 , 0.1 , 0.25, 0.  , 0.7 ]),\n",
       " array([0.805339  , 0.99459026, 0.31526234, 1.        , 0.67688384])]"
      ]
     },
     "execution_count": 21,
     "metadata": {},
     "output_type": "execute_result"
    }
   ],
   "source": [
    "[i[0] for i in functions]"
   ]
  },
  {
   "cell_type": "code",
   "execution_count": 22,
   "id": "45d7429d",
   "metadata": {},
   "outputs": [
    {
     "data": {
      "text/plain": [
       "matrix([[0.5       , 0.1       , 0.25      , 0.        , 0.7       ],\n",
       "        [0.805339  , 0.99459026, 0.31526234, 1.        , 0.67688384]])"
      ]
     },
     "execution_count": 22,
     "metadata": {},
     "output_type": "execute_result"
    }
   ],
   "source": [
    "# search list of arrays to [[], [], ...]\n",
    "f_matrix = np.matrix([i[0] for i in functions])\n",
    "f_matrix"
   ]
  },
  {
   "cell_type": "code",
   "execution_count": 23,
   "id": "93e13b65",
   "metadata": {},
   "outputs": [
    {
     "data": {
      "text/plain": [
       "matrix([[0.5       , 0.1       , 0.25      , 0.        , 0.67688384],\n",
       "        [0.805339  , 0.99459026, 0.31526234, 1.        , 0.7       ]])"
      ]
     },
     "execution_count": 23,
     "metadata": {},
     "output_type": "execute_result"
    }
   ],
   "source": [
    "f_sort = np.sort(f_matrix, axis=0)\n",
    "f_sort"
   ]
  },
  {
   "cell_type": "code",
   "execution_count": 27,
   "id": "8e3370d1",
   "metadata": {},
   "outputs": [
    {
     "data": {
      "text/plain": [
       "matrix([[0.7137373 , 0.72621318, 0.29568364, 0.7       , 0.69306515]])"
      ]
     },
     "execution_count": 27,
     "metadata": {},
     "output_type": "execute_result"
    }
   ],
   "source": [
    "np.average(f_sort, axis=0, weights=weight)"
   ]
  },
  {
   "cell_type": "code",
   "execution_count": 109,
   "id": "f789e0e1",
   "metadata": {},
   "outputs": [
    {
     "data": {
      "text/plain": [
       "array([0.805339  , 0.99459026, 0.31526234, 1.        , 0.7       ])"
      ]
     },
     "execution_count": 109,
     "metadata": {},
     "output_type": "execute_result"
    }
   ],
   "source": [
    "np.array(np.average(f_sort, axis=0, weights=[0,1])).ravel()"
   ]
  },
  {
   "cell_type": "code",
   "execution_count": null,
   "id": "2525066a",
   "metadata": {},
   "outputs": [],
   "source": []
  }
 ],
 "metadata": {
  "kernelspec": {
   "display_name": "Python 3 (ipykernel)",
   "language": "python",
   "name": "python3"
  },
  "language_info": {
   "codemirror_mode": {
    "name": "ipython",
    "version": 3
   },
   "file_extension": ".py",
   "mimetype": "text/x-python",
   "name": "python",
   "nbconvert_exporter": "python",
   "pygments_lexer": "ipython3",
   "version": "3.12.4"
  }
 },
 "nbformat": 4,
 "nbformat_minor": 5
}
